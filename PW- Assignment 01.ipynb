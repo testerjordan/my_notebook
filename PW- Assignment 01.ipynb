{
 "cells": [
  {
   "cell_type": "raw",
   "id": "1af8d4d0",
   "metadata": {},
   "source": [
    " Q1. Write all the conventions being followed while declaring a variable.\n",
    " Ans. In python language there are some rules while declaring a variable...\n",
    "A variable name must start with a letter or the underscore character.\n",
    "A variable name cannot start with a number.\n",
    "A variable name can only contain alphanumeric characters and underscores (A-z, 0-9, and _ ).\n",
    "Variable names are case-sensitive (age, Age and AGE are three different variables)\n",
    "Do not use python internal fuction as a variable like True,global,type and so on."
   ]
  },
  {
   "cell_type": "raw",
   "id": "6fde9277",
   "metadata": {},
   "source": [
    "Q2. What will happen if we declare a restricted keyword as a variable?\n",
    "Ans. If we try to declear a restricted keyward as a variable in Python , we will get syntaxError. This is because Python Keywards are reserved words that have special meanings to the Python interpreter. You cannot use them as a variable name , function names, or any other identifiers.\n",
    "here some example for better understanding that i dilever for you to make good marks for me sir ."
   ]
  },
  {
   "cell_type": "code",
   "execution_count": 3,
   "id": "9dd20644",
   "metadata": {},
   "outputs": [
    {
     "ename": "SyntaxError",
     "evalue": "cannot assign to True (2256602645.py, line 1)",
     "output_type": "error",
     "traceback": [
      "\u001b[1;36m  Cell \u001b[1;32mIn[3], line 1\u001b[1;36m\u001b[0m\n\u001b[1;33m    True = 7\u001b[0m\n\u001b[1;37m    ^\u001b[0m\n\u001b[1;31mSyntaxError\u001b[0m\u001b[1;31m:\u001b[0m cannot assign to True\n"
     ]
    }
   ],
   "source": [
    "True = 7"
   ]
  },
  {
   "cell_type": "code",
   "execution_count": 5,
   "id": "e8f0e37a",
   "metadata": {},
   "outputs": [
    {
     "ename": "SyntaxError",
     "evalue": "cannot assign to None (2766826958.py, line 1)",
     "output_type": "error",
     "traceback": [
      "\u001b[1;36m  Cell \u001b[1;32mIn[5], line 1\u001b[1;36m\u001b[0m\n\u001b[1;33m    None = 12\u001b[0m\n\u001b[1;37m    ^\u001b[0m\n\u001b[1;31mSyntaxError\u001b[0m\u001b[1;31m:\u001b[0m cannot assign to None\n"
     ]
    }
   ],
   "source": [
    "None = 12"
   ]
  },
  {
   "cell_type": "raw",
   "id": "919f9c64",
   "metadata": {},
   "source": [
    "lets go to solve the next question-"
   ]
  },
  {
   "cell_type": "raw",
   "id": "bf9139ba",
   "metadata": {},
   "source": [
    "Q3. Can we actually declare a string as a variable name?\n",
    "Ans. I already give the answer of the first question this question is a subset of 1st question.\n",
    "but I write the best answesheet then i did my best for give a better content that i have ever published ...\n",
    "No, you cannot directly declare a string as a variable name in Python. Variable names must start with a letter or an underscore, and they can only contain alphanumeric characters and underscores.\n",
    "Lets check example for it...\n"
   ]
  },
  {
   "cell_type": "code",
   "execution_count": 7,
   "id": "2e9acb27",
   "metadata": {},
   "outputs": [
    {
     "ename": "SyntaxError",
     "evalue": "cannot assign to literal here. Maybe you meant '==' instead of '='? (2611553657.py, line 1)",
     "output_type": "error",
     "traceback": [
      "\u001b[1;36m  Cell \u001b[1;32mIn[7], line 1\u001b[1;36m\u001b[0m\n\u001b[1;33m    '' = \"rahul\"\u001b[0m\n\u001b[1;37m    ^\u001b[0m\n\u001b[1;31mSyntaxError\u001b[0m\u001b[1;31m:\u001b[0m cannot assign to literal here. Maybe you meant '==' instead of '='?\n"
     ]
    }
   ],
   "source": [
    "'' = \"rahul\""
   ]
  },
  {
   "cell_type": "raw",
   "id": "cadf2979",
   "metadata": {},
   "source": [
    "Move towards the next question-"
   ]
  },
  {
   "cell_type": "raw",
   "id": "e5d04952",
   "metadata": {},
   "source": [
    "Q4. Is it possible for us to declare “_” as a variable? If so, then write an example of it.\n",
    "Ans. Honestly, I do not know the correct answer .\n",
    "Lets check it out below..."
   ]
  },
  {
   "cell_type": "code",
   "execution_count": 1,
   "id": "6a8a7b60",
   "metadata": {},
   "outputs": [
    {
     "ename": "SyntaxError",
     "evalue": "cannot assign to literal here. Maybe you meant '==' instead of '='? (2192511005.py, line 1)",
     "output_type": "error",
     "traceback": [
      "\u001b[1;36m  Cell \u001b[1;32mIn[1], line 1\u001b[1;36m\u001b[0m\n\u001b[1;33m    \"-\" = 'jordan'\u001b[0m\n\u001b[1;37m    ^\u001b[0m\n\u001b[1;31mSyntaxError\u001b[0m\u001b[1;31m:\u001b[0m cannot assign to literal here. Maybe you meant '==' instead of '='?\n"
     ]
    }
   ],
   "source": [
    "\"-\" = 'jordan'"
   ]
  },
  {
   "cell_type": "code",
   "execution_count": 2,
   "id": "08764d3c",
   "metadata": {},
   "outputs": [],
   "source": [
    "_ = \"jordan\""
   ]
  },
  {
   "cell_type": "raw",
   "id": "20330a55",
   "metadata": {},
   "source": [
    "# After the experiment I got \"_\" can not define as a variable but _ it can be use as a variable."
   ]
  },
  {
   "cell_type": "raw",
   "id": "1eb1923d",
   "metadata": {},
   "source": [
    "Q5. Using an example, explain how the variables in python are dynamic in nature.\n",
    "Ans. Ofcourse Sir , Lets check my Note below..."
   ]
  },
  {
   "cell_type": "code",
   "execution_count": 4,
   "id": "76bba3e4",
   "metadata": {},
   "outputs": [],
   "source": [
    "my_variable_sir = 100  #1"
   ]
  },
  {
   "cell_type": "code",
   "execution_count": 5,
   "id": "872c9655",
   "metadata": {},
   "outputs": [],
   "source": [
    "my_variable_sir = 99.999  #2"
   ]
  },
  {
   "cell_type": "code",
   "execution_count": 6,
   "id": "e617f147",
   "metadata": {},
   "outputs": [
    {
     "name": "stdout",
     "output_type": "stream",
     "text": [
      "99.999\n"
     ]
    }
   ],
   "source": [
    "print(my_variable_sir)"
   ]
  },
  {
   "cell_type": "raw",
   "id": "526a10c6",
   "metadata": {},
   "source": [
    "Note #1 and #2 have same variable but different values and when i check the value of my_variable_sir I get 99.99 . via this experiment . we proved variable in Python dynamic in nature."
   ]
  },
  {
   "cell_type": "raw",
   "id": "a4d1e131",
   "metadata": {},
   "source": [
    "Thanks for reading my Notebook...\n",
    "God bless you all !"
   ]
  },
  {
   "cell_type": "code",
   "execution_count": null,
   "id": "e7056ca5",
   "metadata": {},
   "outputs": [],
   "source": []
  }
 ],
 "metadata": {
  "kernelspec": {
   "display_name": "Python 3 (ipykernel)",
   "language": "python",
   "name": "python3"
  },
  "language_info": {
   "codemirror_mode": {
    "name": "ipython",
    "version": 3
   },
   "file_extension": ".py",
   "mimetype": "text/x-python",
   "name": "python",
   "nbconvert_exporter": "python",
   "pygments_lexer": "ipython3",
   "version": "3.11.5"
  }
 },
 "nbformat": 4,
 "nbformat_minor": 5
}
